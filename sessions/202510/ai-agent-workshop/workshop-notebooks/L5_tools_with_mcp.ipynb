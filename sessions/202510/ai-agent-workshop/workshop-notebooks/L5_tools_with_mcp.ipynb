{
 "cells": [
  {
   "cell_type": "markdown",
   "id": "e0c82cb7-58cc-4cf0-86af-5ecefa582a09",
   "metadata": {},
   "source": [
    "# Tools with MCP ⏰\n",
    "\n",
    "The Model Context Protocol (MCP) provides a standardized way to connect AI agents to external tools and data sources. Let's connect to an MCP server using `langchain-mcp-adapters`."
   ]
  },
  {
   "cell_type": "markdown",
   "id": "5dc7ca16-3bfc-4f33-bf31-3cd4cafb778d",
   "metadata": {},
   "source": [
    "## Setup"
   ]
  },
  {
   "cell_type": "markdown",
   "id": "705b0f0b-2170-4ac4-8125-1868ef53f9c5",
   "metadata": {},
   "source": [
    "Load and/or check for needed environmental variables"
   ]
  },
  {
   "cell_type": "code",
   "execution_count": 3,
   "id": "a55dcf47-4f11-4b8e-9762-d06d81032f10",
   "metadata": {},
   "outputs": [
    {
     "name": "stdout",
     "output_type": "stream",
     "text": [
      "OLLAMA_HOST_URL=http://localhost:11434\n"
     ]
    }
   ],
   "source": [
    "from dotenv import load_dotenv\n",
    "from env_utils import doublecheck_env\n",
    "\n",
    "# Load environment variables from .env\n",
    "load_dotenv()\n",
    "\n",
    "# Check and print results\n",
    "doublecheck_env(\"example.env\")"
   ]
  },
  {
   "cell_type": "code",
   "execution_count": 4,
   "id": "hgss9k1exsc",
   "metadata": {},
   "outputs": [
    {
     "name": "stdout",
     "output_type": "stream",
     "text": [
      "Loaded 2 MCP tools: ['add', 'multiply']\n"
     ]
    }
   ],
   "source": [
    "from langchain_mcp_adapters.client import MultiServerMCPClient\n",
    "import nest_asyncio\n",
    "import os\n",
    "\n",
    "nest_asyncio.apply()\n",
    "\n",
    "math_server_path = \"./servers/math_server.py\"\n",
    "\n",
    "mcp_client = MultiServerMCPClient(\n",
    "    {\n",
    "            \"math\": {\n",
    "                \"command\": \"python3\",\n",
    "                \"args\": [math_server_path],\n",
    "                \"transport\": \"stdio\",\n",
    "            }\n",
    "    },\n",
    ")\n",
    "\n",
    "# Load tools from the MCP server\n",
    "mcp_tools = await mcp_client.get_tools()\n",
    "print(f\"Loaded {len(mcp_tools)} MCP tools: {[t.name for t in mcp_tools]}\")"
   ]
  },
  {
   "cell_type": "markdown",
   "id": "vcjuvmuq4e",
   "metadata": {},
   "source": [
    "Create an agent with the MCP-provided time tools."
   ]
  },
  {
   "cell_type": "code",
   "execution_count": 5,
   "id": "kzxdtfhdupm",
   "metadata": {},
   "outputs": [],
   "source": [
    "from langchain.agents import create_agent\n",
    "from langchain_ollama import ChatOllama\n",
    "import os\n",
    "\n",
    "model = ChatOllama(\n",
    "    model=\"granite4:latest\",\n",
    "    temperature=0,\n",
    "    base_url=os.environ['OLLAMA_HOST_URL']\n",
    ")\n",
    "\n",
    "agent_with_mcp = create_agent(\n",
    "    model=model,\n",
    "    tools=mcp_tools,\n",
    "    system_prompt=\"You are a helpful assistant\",\n",
    ")"
   ]
  },
  {
   "cell_type": "markdown",
   "id": "ezfs2wsar76",
   "metadata": {},
   "source": [
    "Ask about the current time in San Francisco."
   ]
  },
  {
   "cell_type": "code",
   "execution_count": 6,
   "id": "igtndf1iknd",
   "metadata": {},
   "outputs": [
    {
     "name": "stdout",
     "output_type": "stream",
     "text": [
      "================================\u001b[1m Human Message \u001b[0m=================================\n",
      "\n",
      "What's 4 * 5?\n",
      "==================================\u001b[1m Ai Message \u001b[0m==================================\n",
      "Tool Calls:\n",
      "  multiply (72c3e936-eee6-4f56-be9f-8832696415e5)\n",
      " Call ID: 72c3e936-eee6-4f56-be9f-8832696415e5\n",
      "  Args:\n",
      "    a: 4\n",
      "    b: 5\n",
      "=================================\u001b[1m Tool Message \u001b[0m=================================\n",
      "Name: multiply\n",
      "\n",
      "20\n",
      "==================================\u001b[1m Ai Message \u001b[0m==================================\n",
      "\n",
      "The result of multiplying 4 by 5 is **20**.\n"
     ]
    }
   ],
   "source": [
    "result = await agent_with_mcp.ainvoke(\n",
    "    {\"messages\": [{\"role\": \"user\", \"content\": \"What's 4 * 5?\"}]}\n",
    ")\n",
    "for msg in result[\"messages\"]:\n",
    "    msg.pretty_print()"
   ]
  }
 ],
 "metadata": {
  "kernelspec": {
   "display_name": ".venv",
   "language": "python",
   "name": "python3"
  },
  "language_info": {
   "codemirror_mode": {
    "name": "ipython",
    "version": 3
   },
   "file_extension": ".py",
   "mimetype": "text/x-python",
   "name": "python",
   "nbconvert_exporter": "python",
   "pygments_lexer": "ipython3",
   "version": "3.13.5"
  }
 },
 "nbformat": 4,
 "nbformat_minor": 5
}
